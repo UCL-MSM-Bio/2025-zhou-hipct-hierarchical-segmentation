{
 "cells": [
  {
   "cell_type": "code",
   "execution_count": 1,
   "metadata": {},
   "outputs": [],
   "source": [
    "import sys\n",
    "sys.path.append('..')\n",
    "import os\n",
    "import glob\n",
    "import natsort\n",
    "import numpy as np\n",
    "import skimage.io as skio\n",
    "from segmentation.postprocessing import postprocessor"
   ]
  },
  {
   "cell_type": "code",
   "execution_count": 3,
   "metadata": {},
   "outputs": [
    {
     "name": "stdout",
     "output_type": "stream",
     "text": [
      "Found 3 subvolume folders.\n",
      "['/hdd/yang/projects/glomeruli_segmentation/data/S-20-28/5.0um_voi01/inference/subvol1/S-20-28-voi01-5um-clahe_subvol_0_3421.tif', '/hdd/yang/projects/glomeruli_segmentation/data/S-20-28/5.0um_voi01/inference/subvol2/S-20-28-voi01-5um-clahe_subvol_3357_6778.tif', '/hdd/yang/projects/glomeruli_segmentation/data/S-20-28/5.0um_voi01/inference/subvol3/S-20-28-voi01-5um-clahe_subvol_6714_10264.tif']\n"
     ]
    },
    {
     "name": "stderr",
     "output_type": "stream",
     "text": [
      "100%|██████████| 3/3 [00:11<00:00,  3.76s/it]\n"
     ]
    },
    {
     "name": "stdout",
     "output_type": "stream",
     "text": [
      "Concatenated volume saved at: /hdd/yang/projects/glomeruli_segmentation/data/S-20-28/5.0um_voi01/inference/S-20-28-voi01-5um-clahe.tif\n",
      "Concatenated volume shape: (10264, 1919, 1919)\n"
     ]
    }
   ],
   "source": [
    "inference_dir = '/hdd/yang/projects/glomeruli_segmentation/data/S-20-28/5.0um_voi01/inference/'\n",
    "output_path = '/hdd/yang/projects/glomeruli_segmentation/data/S-20-28/5.0um_voi01/inference/S-20-28-voi01-5um-clahe.tif'\n",
    "postprocessor.concatenate_subvolumes(inference_dir=inference_dir, overlap_depth_in_pixels=64, output_path=output_path)"
   ]
  },
  {
   "cell_type": "code",
   "execution_count": null,
   "metadata": {},
   "outputs": [],
   "source": []
  }
 ],
 "metadata": {
  "language_info": {
   "name": "python"
  }
 },
 "nbformat": 4,
 "nbformat_minor": 2
}
