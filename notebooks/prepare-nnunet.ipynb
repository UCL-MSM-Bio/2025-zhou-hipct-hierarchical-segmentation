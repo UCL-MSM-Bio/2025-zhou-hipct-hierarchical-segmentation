{
 "cells": [
  {
   "cell_type": "code",
   "execution_count": 8,
   "id": "401e8b86",
   "metadata": {},
   "outputs": [],
   "source": [
    "import sys\n",
    "sys.path.append(\"..\")\n",
    "from segmentation.preprocessing import helper\n",
    "import os\n",
    "save_path = '/hdd/yang/data/kidney_seg/high-res_training/90_10'"
   ]
  },
  {
   "cell_type": "markdown",
   "id": "349ee9ac",
   "metadata": {},
   "source": [
    "Seperate the training and testing dataset based on a ratio, train:test = 9:1 as default. \n",
    "\n",
    "The seperation was performed on the 512^3 cubes instead of 128^3 patches"
   ]
  },
  {
   "cell_type": "code",
   "execution_count": null,
   "id": "44415ea5",
   "metadata": {},
   "outputs": [
    {
     "name": "stdout",
     "output_type": "stream",
     "text": [
      "Sample: 5um S-20-28, Total Cubes: 20\n",
      "Train Indices: [0, 1, 2, 3, 4, 5, 6, 8, 9, 10, 12, 13, 14, 15, 16, 17, 18, 19], total: 18\n",
      "Test Indices: [7, 11], total: 2\n",
      "Sample: 5.2um LADAF 2021-17 Left Kidney, Total Cubes: 7\n",
      "Train Indices: [20, 21, 22, 23, 24, 25], total: 6\n",
      "Test Indices: [26], total: 1\n",
      "Sample: 5.2um LADAF 2021-17 Right Kidney, Total Cubes: 9\n",
      "Train Indices: [27, 28, 30, 31, 32, 33, 34, 35], total: 8\n",
      "Test Indices: [29], total: 1\n",
      "Sample: 2.58um LADAF 2020-27 Left Kidney, Total Cubes: 4\n",
      "Train Indices: [36, 38, 39], total: 3\n",
      "Test Indices: [37], total: 1\n"
     ]
    }
   ],
   "source": [
    "helper.train_test_split(save_path=save_path)"
   ]
  },
  {
   "cell_type": "code",
   "execution_count": 54,
   "id": "4e36ec6e",
   "metadata": {},
   "outputs": [
    {
     "name": "stdout",
     "output_type": "stream",
     "text": [
      "Working on sample: 5um S-20-28\n",
      "Total number of valid cubes: 950\n",
      "Working on sample: 5.2um LADAF 2021-17 Left Kidney\n",
      "Total number of valid cubes: 197\n",
      "Working on sample: 5.2um LADAF 2021-17 Right Kidney\n",
      "Total number of valid cubes: 239\n",
      "Working on sample: 2.58um LADAF 2020-27 Left Kidney\n",
      "Total number of valid cubes: 112\n",
      "Done!\n"
     ]
    }
   ],
   "source": [
    "label_dir = '/hdd/yang/data/kidney_seg/high-res_training/training_patches/labels'\n",
    "train_cubes_txt = '/hdd/yang/data/kidney_seg/high-res_training/90_10/train_selected_cubes_tr0.9.txt'\n",
    "test_cube_txt = '/hdd/yang/data/kidney_seg/high-res_training/90_10/test_selected_cubes_tr0.9.txt'\n",
    "output_path = '/hdd/yang/data/kidney_seg/high-res_training/90_10'\n",
    "helper.generate_patch_list_per_sample(label_dir, train_cubes_txt, test_cube_txt, output_path, non_zero_only=True)\n",
    "# check label 21 wrong"
   ]
  },
  {
   "cell_type": "code",
   "execution_count": null,
   "id": "faa0c2b8",
   "metadata": {},
   "outputs": [],
   "source": []
  },
  {
   "cell_type": "code",
   "execution_count": 10,
   "id": "77ed0dc3",
   "metadata": {},
   "outputs": [
    {
     "name": "stdout",
     "output_type": "stream",
     "text": [
      "Working on sample: 5um S-20-28\n",
      "Train: 664\n",
      "Val: 167\n",
      "Train: 665\n",
      "Val: 166\n",
      "Train: 665\n",
      "Val: 166\n",
      "Train: 665\n",
      "Val: 166\n",
      "Train: 665\n",
      "Val: 166\n",
      "Working on sample: 5.2um LADAF 2021-17 Left Kidney\n",
      "Train: 149\n",
      "Val: 38\n",
      "Train: 149\n",
      "Val: 38\n",
      "Train: 150\n",
      "Val: 37\n",
      "Train: 150\n",
      "Val: 37\n",
      "Train: 150\n",
      "Val: 37\n",
      "Working on sample: 5.2um LADAF 2021-17 Right Kidney\n",
      "Train: 180\n",
      "Val: 46\n",
      "Train: 181\n",
      "Val: 45\n",
      "Train: 181\n",
      "Val: 45\n",
      "Train: 181\n",
      "Val: 45\n",
      "Train: 181\n",
      "Val: 45\n",
      "Working on sample: 2.58um LADAF 2020-27 Left Kidney\n",
      "Train: 68\n",
      "Val: 18\n",
      "Train: 69\n",
      "Val: 17\n",
      "Train: 69\n",
      "Val: 17\n",
      "Train: 69\n",
      "Val: 17\n",
      "Train: 69\n",
      "Val: 17\n",
      "Fold: fold0\n",
      "Train: 1061\n",
      "Val: 269\n",
      "Fold: fold1\n",
      "Train: 1064\n",
      "Val: 266\n",
      "Fold: fold2\n",
      "Train: 1065\n",
      "Val: 265\n",
      "Fold: fold3\n",
      "Train: 1065\n",
      "Val: 265\n",
      "Fold: fold4\n",
      "Train: 1065\n",
      "Val: 265\n"
     ]
    }
   ],
   "source": [
    "n_folds = 5\n",
    "output_json_dir = save_path\n",
    "patch_list_per_sample = os.path.join(output_json_dir, 'non_zero_patch_list_per_sample.json')\n",
    "helper.generate_folds(n_folds, patch_list_per_sample, output_json_dir)"
   ]
  },
  {
   "cell_type": "code",
   "execution_count": 3,
   "id": "4de9f9e4",
   "metadata": {},
   "outputs": [
    {
     "name": "stderr",
     "output_type": "stream",
     "text": [
      "Copying training data: 100%|██████████| 1330/1330 [00:03<00:00, 386.74it/s]\n"
     ]
    }
   ],
   "source": [
    "patch_dir = '/hdd/yang/data/kidney_seg/high-res_training/training_patches/'\n",
    "patch_list_per_sample = '/hdd/yang/data/kidney_seg/high-res_training/90_10/non_zero_patch_list_per_sample.json'\n",
    "nnunet_raw_data_dir = '/hdd/yang/data/kidney_seg_nnunet/nnUNet_raw/'\n",
    "dataset_name = 'Task001_KidneySegmentation'\n",
    "\n",
    "helper.processing_nnunet_dataset(patch_dir, patch_list_per_sample, nnunet_raw_data_dir, dataset_name)"
   ]
  }
 ],
 "metadata": {
  "kernelspec": {
   "display_name": ".venv",
   "language": "python",
   "name": "python3"
  },
  "language_info": {
   "codemirror_mode": {
    "name": "ipython",
    "version": 3
   },
   "file_extension": ".py",
   "mimetype": "text/x-python",
   "name": "python",
   "nbconvert_exporter": "python",
   "pygments_lexer": "ipython3",
   "version": "3.11.12"
  }
 },
 "nbformat": 4,
 "nbformat_minor": 5
}
