{
 "cells": [
  {
   "cell_type": "markdown",
   "metadata": {},
   "source": [
    "# Convert data to CLAHE\n",
    "This notebook shows how to prepare the data for inference\n",
    "* The data download from ESRF are originally jp2\n",
    "* Before inference, we will need to convert to .tif volume followed by a 3D CLAHE"
   ]
  },
  {
   "cell_type": "code",
   "execution_count": 1,
   "metadata": {},
   "outputs": [],
   "source": [
    "import sys\n",
    "sys.path.append('..')\n",
    "import os\n",
    "import glob\n",
    "import natsort\n",
    "import numpy as np\n",
    "import skimage.io as skio\n",
    "from segmentation.preprocessing import preprocessor\n"
   ]
  },
  {
   "cell_type": "code",
   "execution_count": 5,
   "metadata": {},
   "outputs": [
    {
     "name": "stdout",
     "output_type": "stream",
     "text": [
      "12.033088989 GB\n"
     ]
    }
   ],
   "source": [
    "image_16bit_jp2_dir = '/hdd/yang/projects/glomeruli_segmentation/data/LADAF-2021-17_left/5.2um_LADAF-2021-17_kidney-left_VOI-01.1_pag-0.26_0.11_jp2_'\n",
    "volume_save_dir = '/hdd/yang/projects/glomeruli_segmentation/data/LADAF-2021-17_left/5.2um_LADAF-2021-17_kidney-left_VOI-01.1_pag-0.26_0.11_16bit_volume/'\n",
    "if not os.path.exists(volume_save_dir):\n",
    "    os.makedirs(volume_save_dir)\n",
    "# check folder size\n",
    "\n",
    "def get_size(start_path = '.'):\n",
    "    total_size = 0\n",
    "    for dirpath, dirnames, filenames in os.walk(start_path):\n",
    "        for f in filenames:\n",
    "            fp = os.path.join(dirpath, f)\n",
    "            # skip if it is symbolic link\n",
    "            if not os.path.islink(fp):\n",
    "                total_size += os.path.getsize(fp)\n",
    "\n",
    "    return total_size\n",
    "\n",
    "print(get_size(image_16bit_jp2_dir)/1e9, 'GB')"
   ]
  },
  {
   "cell_type": "markdown",
   "metadata": {},
   "source": [
    "# Divide big CLAHE patches for inference"
   ]
  },
  {
   "cell_type": "code",
   "execution_count": 3,
   "metadata": {},
   "outputs": [
    {
     "name": "stdout",
     "output_type": "stream",
     "text": [
      "Big volume shape: (6475, 1928, 1928)\n",
      "Segment size: 3237\n"
     ]
    },
    {
     "name": "stderr",
     "output_type": "stream",
     "text": [
      " 50%|█████     | 1/2 [00:05<00:05,  5.64s/it]"
     ]
    },
    {
     "name": "stdout",
     "output_type": "stream",
     "text": [
      "Subvolume saved at: /hdd/yang/projects/glomeruli_segmentation/data/LADAF-2021-17-left/5.2um_LADAF-2021-17_kidney-left_VOI-01.1_pag-0.26_0.11_clahe_/LADAF-2021-17-left-voi01.1-5.2um-clahe_0000_subvol_0_3237.tif\n",
      "Subvolume shape: (3237, 1928, 1928)\n"
     ]
    },
    {
     "name": "stderr",
     "output_type": "stream",
     "text": [
      "100%|██████████| 2/2 [00:11<00:00,  5.71s/it]"
     ]
    },
    {
     "name": "stdout",
     "output_type": "stream",
     "text": [
      "Subvolume saved at: /hdd/yang/projects/glomeruli_segmentation/data/LADAF-2021-17-left/5.2um_LADAF-2021-17_kidney-left_VOI-01.1_pag-0.26_0.11_clahe_/LADAF-2021-17-left-voi01.1-5.2um-clahe_0000_subvol_3173_6474.tif\n",
      "Subvolume shape: (3301, 1928, 1928)\n",
      "Subvolume division completed.\n"
     ]
    },
    {
     "name": "stderr",
     "output_type": "stream",
     "text": [
      "\n"
     ]
    }
   ],
   "source": [
    "preprocessor.devide_subvolumes(\n",
    "    big_vol_path='/hdd/yang/projects/glomeruli_segmentation/data/LADAF-2021-17-left/5.2um_LADAF-2021-17_kidney-left_VOI-01.1_pag-0.26_0.11_clahe_/LADAF-2021-17-left-voi01.1-5.2um-clahe_0000.tif',\n",
    "    segments=2,\n",
    "    overlap_depth_in_pixels=64\n",
    ")"
   ]
  },
  {
   "cell_type": "markdown",
   "metadata": {},
   "source": [
    "# Normalise Data for registration"
   ]
  },
  {
   "cell_type": "code",
   "execution_count": 1,
   "metadata": {},
   "outputs": [
    {
     "name": "stdout",
     "output_type": "stream",
     "text": [
      "Number of files: 6475 \n",
      " File type: uint16 \n",
      " Converting to 8 bit: True \n",
      " Masked: True\n",
      "Multi-processing with 16 CPUs...\n"
     ]
    },
    {
     "ename": "KeyboardInterrupt",
     "evalue": "",
     "output_type": "error",
     "traceback": [
      "\u001b[31m---------------------------------------------------------------------------\u001b[39m",
      "\u001b[31mKeyboardInterrupt\u001b[39m                         Traceback (most recent call last)",
      "\u001b[36mCell\u001b[39m\u001b[36m \u001b[39m\u001b[32mIn[1]\u001b[39m\u001b[32m, line 16\u001b[39m\n\u001b[32m      7\u001b[39m output_dir = \u001b[33m'\u001b[39m\u001b[33m/hdd/yang/projects/glomeruli_segmentation/data/LADAF-2021-17-left/5.2um_voi01/5.2um_LADAF-2021-17_kidney-left_VOI-01.1_pag-0.26_0.11_tif_normalised/\u001b[39m\u001b[33m'\u001b[39m\n\u001b[32m      9\u001b[39m normaliser = preprocessor.hipctNormaliser(\n\u001b[32m     10\u001b[39m     input_dir, \n\u001b[32m     11\u001b[39m     output_dir, \n\u001b[32m     12\u001b[39m     convert_to_8_bit=\u001b[38;5;28;01mTrue\u001b[39;00m, \n\u001b[32m     13\u001b[39m     masked=\u001b[38;5;28;01mTrue\u001b[39;00m, \n\u001b[32m     14\u001b[39m     threshold=\u001b[32m0.01\u001b[39m)\n\u001b[32m---> \u001b[39m\u001b[32m16\u001b[39m \u001b[43mnormaliser\u001b[49m\u001b[43m.\u001b[49m\u001b[43mnormalise_multiprocessing\u001b[49m\u001b[43m(\u001b[49m\u001b[43m)\u001b[49m\n",
      "\u001b[36mFile \u001b[39m\u001b[32m/hdd/yang/projects/glomeruli_segmentation/2025-zhou-hipct-hierarchical-segmentation/notebooks/../segmentation/preprocessing/preprocessor.py:201\u001b[39m, in \u001b[36mhipctNormaliser.normalise_multiprocessing\u001b[39m\u001b[34m(self)\u001b[39m\n\u001b[32m    199\u001b[39m \u001b[38;5;66;03m# multi-processing\u001b[39;00m\n\u001b[32m    200\u001b[39m \u001b[38;5;28;01mwith\u001b[39;00m Pool(num_cpus) \u001b[38;5;28;01mas\u001b[39;00m p:\n\u001b[32m--> \u001b[39m\u001b[32m201\u001b[39m     logging_results = \u001b[43mp\u001b[49m\u001b[43m.\u001b[49m\u001b[43mmap\u001b[49m\u001b[43m(\u001b[49m\u001b[38;5;28;43mself\u001b[39;49m\u001b[43m.\u001b[49m\u001b[43m_normalise\u001b[49m\u001b[43m,\u001b[49m\u001b[43m \u001b[49m\u001b[43mim_files\u001b[49m\u001b[43m)\u001b[49m\n\u001b[32m    202\u001b[39m p.join()\n\u001b[32m    203\u001b[39m \u001b[38;5;28mprint\u001b[39m(\u001b[33mf\u001b[39m\u001b[33m'\u001b[39m\u001b[33mConversion completed. Tif images saved at: \u001b[39m\u001b[38;5;132;01m{\u001b[39;00m\u001b[38;5;28mself\u001b[39m.output_dir\u001b[38;5;132;01m}\u001b[39;00m\u001b[33m'\u001b[39m)\n",
      "\u001b[36mFile \u001b[39m\u001b[32m~/.local/share/uv/python/cpython-3.11.12-linux-x86_64-gnu/lib/python3.11/multiprocessing/pool.py:367\u001b[39m, in \u001b[36mPool.map\u001b[39m\u001b[34m(self, func, iterable, chunksize)\u001b[39m\n\u001b[32m    362\u001b[39m \u001b[38;5;28;01mdef\u001b[39;00m\u001b[38;5;250m \u001b[39m\u001b[34mmap\u001b[39m(\u001b[38;5;28mself\u001b[39m, func, iterable, chunksize=\u001b[38;5;28;01mNone\u001b[39;00m):\n\u001b[32m    363\u001b[39m \u001b[38;5;250m    \u001b[39m\u001b[33;03m'''\u001b[39;00m\n\u001b[32m    364\u001b[39m \u001b[33;03m    Apply `func` to each element in `iterable`, collecting the results\u001b[39;00m\n\u001b[32m    365\u001b[39m \u001b[33;03m    in a list that is returned.\u001b[39;00m\n\u001b[32m    366\u001b[39m \u001b[33;03m    '''\u001b[39;00m\n\u001b[32m--> \u001b[39m\u001b[32m367\u001b[39m     \u001b[38;5;28;01mreturn\u001b[39;00m \u001b[38;5;28;43mself\u001b[39;49m\u001b[43m.\u001b[49m\u001b[43m_map_async\u001b[49m\u001b[43m(\u001b[49m\u001b[43mfunc\u001b[49m\u001b[43m,\u001b[49m\u001b[43m \u001b[49m\u001b[43miterable\u001b[49m\u001b[43m,\u001b[49m\u001b[43m \u001b[49m\u001b[43mmapstar\u001b[49m\u001b[43m,\u001b[49m\u001b[43m \u001b[49m\u001b[43mchunksize\u001b[49m\u001b[43m)\u001b[49m\u001b[43m.\u001b[49m\u001b[43mget\u001b[49m\u001b[43m(\u001b[49m\u001b[43m)\u001b[49m\n",
      "\u001b[36mFile \u001b[39m\u001b[32m~/.local/share/uv/python/cpython-3.11.12-linux-x86_64-gnu/lib/python3.11/multiprocessing/pool.py:768\u001b[39m, in \u001b[36mApplyResult.get\u001b[39m\u001b[34m(self, timeout)\u001b[39m\n\u001b[32m    767\u001b[39m \u001b[38;5;28;01mdef\u001b[39;00m\u001b[38;5;250m \u001b[39m\u001b[34mget\u001b[39m(\u001b[38;5;28mself\u001b[39m, timeout=\u001b[38;5;28;01mNone\u001b[39;00m):\n\u001b[32m--> \u001b[39m\u001b[32m768\u001b[39m     \u001b[38;5;28;43mself\u001b[39;49m\u001b[43m.\u001b[49m\u001b[43mwait\u001b[49m\u001b[43m(\u001b[49m\u001b[43mtimeout\u001b[49m\u001b[43m)\u001b[49m\n\u001b[32m    769\u001b[39m     \u001b[38;5;28;01mif\u001b[39;00m \u001b[38;5;129;01mnot\u001b[39;00m \u001b[38;5;28mself\u001b[39m.ready():\n\u001b[32m    770\u001b[39m         \u001b[38;5;28;01mraise\u001b[39;00m \u001b[38;5;167;01mTimeoutError\u001b[39;00m\n",
      "\u001b[36mFile \u001b[39m\u001b[32m~/.local/share/uv/python/cpython-3.11.12-linux-x86_64-gnu/lib/python3.11/multiprocessing/pool.py:765\u001b[39m, in \u001b[36mApplyResult.wait\u001b[39m\u001b[34m(self, timeout)\u001b[39m\n\u001b[32m    764\u001b[39m \u001b[38;5;28;01mdef\u001b[39;00m\u001b[38;5;250m \u001b[39m\u001b[34mwait\u001b[39m(\u001b[38;5;28mself\u001b[39m, timeout=\u001b[38;5;28;01mNone\u001b[39;00m):\n\u001b[32m--> \u001b[39m\u001b[32m765\u001b[39m     \u001b[38;5;28;43mself\u001b[39;49m\u001b[43m.\u001b[49m\u001b[43m_event\u001b[49m\u001b[43m.\u001b[49m\u001b[43mwait\u001b[49m\u001b[43m(\u001b[49m\u001b[43mtimeout\u001b[49m\u001b[43m)\u001b[49m\n",
      "\u001b[36mFile \u001b[39m\u001b[32m~/.local/share/uv/python/cpython-3.11.12-linux-x86_64-gnu/lib/python3.11/threading.py:629\u001b[39m, in \u001b[36mEvent.wait\u001b[39m\u001b[34m(self, timeout)\u001b[39m\n\u001b[32m    627\u001b[39m signaled = \u001b[38;5;28mself\u001b[39m._flag\n\u001b[32m    628\u001b[39m \u001b[38;5;28;01mif\u001b[39;00m \u001b[38;5;129;01mnot\u001b[39;00m signaled:\n\u001b[32m--> \u001b[39m\u001b[32m629\u001b[39m     signaled = \u001b[38;5;28;43mself\u001b[39;49m\u001b[43m.\u001b[49m\u001b[43m_cond\u001b[49m\u001b[43m.\u001b[49m\u001b[43mwait\u001b[49m\u001b[43m(\u001b[49m\u001b[43mtimeout\u001b[49m\u001b[43m)\u001b[49m\n\u001b[32m    630\u001b[39m \u001b[38;5;28;01mreturn\u001b[39;00m signaled\n",
      "\u001b[36mFile \u001b[39m\u001b[32m~/.local/share/uv/python/cpython-3.11.12-linux-x86_64-gnu/lib/python3.11/threading.py:327\u001b[39m, in \u001b[36mCondition.wait\u001b[39m\u001b[34m(self, timeout)\u001b[39m\n\u001b[32m    325\u001b[39m \u001b[38;5;28;01mtry\u001b[39;00m:    \u001b[38;5;66;03m# restore state no matter what (e.g., KeyboardInterrupt)\u001b[39;00m\n\u001b[32m    326\u001b[39m     \u001b[38;5;28;01mif\u001b[39;00m timeout \u001b[38;5;129;01mis\u001b[39;00m \u001b[38;5;28;01mNone\u001b[39;00m:\n\u001b[32m--> \u001b[39m\u001b[32m327\u001b[39m         \u001b[43mwaiter\u001b[49m\u001b[43m.\u001b[49m\u001b[43macquire\u001b[49m\u001b[43m(\u001b[49m\u001b[43m)\u001b[49m\n\u001b[32m    328\u001b[39m         gotit = \u001b[38;5;28;01mTrue\u001b[39;00m\n\u001b[32m    329\u001b[39m     \u001b[38;5;28;01melse\u001b[39;00m:\n",
      "\u001b[31mKeyboardInterrupt\u001b[39m: "
     ]
    }
   ],
   "source": [
    "# Normalise data for registration\n",
    "import sys\n",
    "sys.path.append('..')\n",
    "from segmentation.preprocessing import preprocessor\n",
    "\n",
    "input_dir = '/hdd/yang/projects/glomeruli_segmentation/data/LADAF-2021-17-left/5.2um_voi01/5.2um_LADAF-2021-17_kidney-left_VOI-01.1_pag-0.26_0.11_jp2_/'\n",
    "output_dir = '/hdd/yang/projects/glomeruli_segmentation/data/LADAF-2021-17-left/5.2um_voi01/5.2um_LADAF-2021-17_kidney-left_VOI-01.1_pag-0.26_0.11_tif_normalised/'\n",
    "\n",
    "normaliser = preprocessor.hipctNormaliser(\n",
    "    input_dir, \n",
    "    output_dir, \n",
    "    convert_to_8_bit=True, \n",
    "    masked=True, \n",
    "    threshold=0.01)\n",
    "\n",
    "normaliser.normalise_multiprocessing()"
   ]
  },
  {
   "cell_type": "code",
   "execution_count": null,
   "metadata": {},
   "outputs": [],
   "source": []
  }
 ],
 "metadata": {
  "kernelspec": {
   "display_name": ".venv",
   "language": "python",
   "name": "python3"
  },
  "language_info": {
   "codemirror_mode": {
    "name": "ipython",
    "version": 3
   },
   "file_extension": ".py",
   "mimetype": "text/x-python",
   "name": "python",
   "nbconvert_exporter": "python",
   "pygments_lexer": "ipython3",
   "version": "3.11.12"
  }
 },
 "nbformat": 4,
 "nbformat_minor": 4
}
