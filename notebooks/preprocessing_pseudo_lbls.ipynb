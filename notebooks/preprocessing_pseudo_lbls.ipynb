{
 "cells": [
  {
   "cell_type": "markdown",
   "metadata": {},
   "source": [
    "# Convert data to CLAHE\n",
    "This notebook shows how to prepare the data for inference\n",
    "* The data download from ESRF are originally jp2\n",
    "* Before inference, we will need to convert to .tif volume followed by a 3D CLAHE"
   ]
  },
  {
   "cell_type": "code",
   "execution_count": 1,
   "metadata": {},
   "outputs": [],
   "source": [
    "import sys\n",
    "sys.path.append('..')\n",
    "import os\n",
    "import glob\n",
    "import natsort\n",
    "import numpy as np\n",
    "import skimage.io as skio\n",
    "from segmentation.preprocessing import preprocessor\n"
   ]
  },
  {
   "cell_type": "code",
   "execution_count": 5,
   "metadata": {},
   "outputs": [
    {
     "name": "stdout",
     "output_type": "stream",
     "text": [
      "12.033088989 GB\n"
     ]
    }
   ],
   "source": [
    "image_16bit_jp2_dir = '/hdd/yang/projects/glomeruli_segmentation/data/LADAF-2021-17_left/5.2um_LADAF-2021-17_kidney-left_VOI-01.1_pag-0.26_0.11_jp2_'\n",
    "volume_save_dir = '/hdd/yang/projects/glomeruli_segmentation/data/LADAF-2021-17_left/5.2um_LADAF-2021-17_kidney-left_VOI-01.1_pag-0.26_0.11_16bit_volume/'\n",
    "if not os.path.exists(volume_save_dir):\n",
    "    os.makedirs(volume_save_dir)\n",
    "# check folder size\n",
    "\n",
    "def get_size(start_path = '.'):\n",
    "    total_size = 0\n",
    "    for dirpath, dirnames, filenames in os.walk(start_path):\n",
    "        for f in filenames:\n",
    "            fp = os.path.join(dirpath, f)\n",
    "            # skip if it is symbolic link\n",
    "            if not os.path.islink(fp):\n",
    "                total_size += os.path.getsize(fp)\n",
    "\n",
    "    return total_size\n",
    "\n",
    "print(get_size(image_16bit_jp2_dir)/1e9, 'GB')"
   ]
  },
  {
   "cell_type": "markdown",
   "metadata": {},
   "source": [
    "# Divide big CLAHE patches for inference"
   ]
  },
  {
   "cell_type": "code",
   "execution_count": 3,
   "metadata": {},
   "outputs": [
    {
     "name": "stdout",
     "output_type": "stream",
     "text": [
      "Big volume shape: (6475, 1928, 1928)\n",
      "Segment size: 3237\n"
     ]
    },
    {
     "name": "stderr",
     "output_type": "stream",
     "text": [
      " 50%|█████     | 1/2 [00:05<00:05,  5.64s/it]"
     ]
    },
    {
     "name": "stdout",
     "output_type": "stream",
     "text": [
      "Subvolume saved at: /hdd/yang/projects/glomeruli_segmentation/data/LADAF-2021-17-left/5.2um_LADAF-2021-17_kidney-left_VOI-01.1_pag-0.26_0.11_clahe_/LADAF-2021-17-left-voi01.1-5.2um-clahe_0000_subvol_0_3237.tif\n",
      "Subvolume shape: (3237, 1928, 1928)\n"
     ]
    },
    {
     "name": "stderr",
     "output_type": "stream",
     "text": [
      "100%|██████████| 2/2 [00:11<00:00,  5.71s/it]"
     ]
    },
    {
     "name": "stdout",
     "output_type": "stream",
     "text": [
      "Subvolume saved at: /hdd/yang/projects/glomeruli_segmentation/data/LADAF-2021-17-left/5.2um_LADAF-2021-17_kidney-left_VOI-01.1_pag-0.26_0.11_clahe_/LADAF-2021-17-left-voi01.1-5.2um-clahe_0000_subvol_3173_6474.tif\n",
      "Subvolume shape: (3301, 1928, 1928)\n",
      "Subvolume division completed.\n"
     ]
    },
    {
     "name": "stderr",
     "output_type": "stream",
     "text": [
      "\n"
     ]
    }
   ],
   "source": [
    "preprocessor.devide_subvolumes(\n",
    "    big_vol_path='/hdd/yang/projects/glomeruli_segmentation/data/LADAF-2021-17-left/5.2um_LADAF-2021-17_kidney-left_VOI-01.1_pag-0.26_0.11_clahe_/LADAF-2021-17-left-voi01.1-5.2um-clahe_0000.tif',\n",
    "    segments=2,\n",
    "    overlap_depth_in_pixels=64\n",
    ")"
   ]
  },
  {
   "cell_type": "markdown",
   "metadata": {},
   "source": [
    "# Normalise Data for registration"
   ]
  },
  {
   "cell_type": "code",
   "execution_count": 5,
   "metadata": {},
   "outputs": [
    {
     "name": "stdout",
     "output_type": "stream",
     "text": [
      "Number of files: 5971 \n",
      " File type: uint16 \n",
      " Converting to 8 bit: True \n",
      " Masked: True\n",
      "Multi-processing with 32 CPUs...\n",
      "Conversion completed. Tif images saved at: /hdd2/yang/projects/glomeruli_segmentation/data/LADAF-2021-17-Left/12.98um_voi02/12.98um_LADAF-2021-17_kidney-left_VOI-02_pag-0.01_0.06_jp2_normalised/\n",
      "Json file saved at: /hdd2/yang/projects/glomeruli_segmentation/data/LADAF-2021-17-Left/12.98um_voi02/12.98um_LADAF-2021-17_kidney-left_VOI-02_pag-0.01_0.06_jp2_normalised/normalisation_parameters.json\n"
     ]
    }
   ],
   "source": [
    "# Normalise data for registration\n",
    "import sys\n",
    "sys.path.append('..')\n",
    "from segmentation.preprocessing import preprocessor\n",
    "\n",
    "input_dir = '/hdd2/yang/projects/glomeruli_segmentation/data/LADAF-2021-17-Left/12.98um_voi02/12.98um_LADAF-2021-17_kidney-left_VOI-02_pag-0.01_0.06_jp2_'\n",
    "output_dir = '/hdd2/yang/projects/glomeruli_segmentation/data/LADAF-2021-17-Left/12.98um_voi02/12.98um_LADAF-2021-17_kidney-left_VOI-02_pag-0.01_0.06_jp2_normalised/'\n",
    "\n",
    "normaliser = preprocessor.hipctNormaliser(\n",
    "    input_dir, \n",
    "    output_dir, \n",
    "    convert_to_8_bit=True, \n",
    "    masked=True, \n",
    "    threshold=0.01)\n",
    "\n",
    "normaliser.normalise_multiprocessing()"
   ]
  },
  {
   "cell_type": "code",
   "execution_count": null,
   "metadata": {},
   "outputs": [],
   "source": []
  }
 ],
 "metadata": {
  "kernelspec": {
   "display_name": "napari-env",
   "language": "python",
   "name": "python3"
  },
  "language_info": {
   "codemirror_mode": {
    "name": "ipython",
    "version": 3
   },
   "file_extension": ".py",
   "mimetype": "text/x-python",
   "name": "python",
   "nbconvert_exporter": "python",
   "pygments_lexer": "ipython3",
   "version": "3.10.14"
  }
 },
 "nbformat": 4,
 "nbformat_minor": 4
}
