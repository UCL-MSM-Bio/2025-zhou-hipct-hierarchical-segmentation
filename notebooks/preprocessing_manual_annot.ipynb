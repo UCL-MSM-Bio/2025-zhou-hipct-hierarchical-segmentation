{
 "cells": [
  {
   "cell_type": "markdown",
   "metadata": {},
   "source": [
    "# Separate Training and Test datasets\n",
    "As demonstrated in the paper, the "
   ]
  },
  {
   "cell_type": "code",
   "execution_count": null,
   "metadata": {},
   "outputs": [],
   "source": []
  },
  {
   "cell_type": "markdown",
   "metadata": {},
   "source": [
    "# Convert data to CLAHE\n",
    "The pre-process steps for HiP-CT 16bit data are as follows:\n",
    "* 3D CLAHE applied to the 16 bit data \n",
    "* Normalisation to 8 bit"
   ]
  },
  {
   "cell_type": "code",
   "execution_count": 1,
   "metadata": {},
   "outputs": [],
   "source": [
    "import sys\n",
    "sys.path.append('..')\n",
    "import os\n",
    "import glob\n",
    "import natsort\n",
    "import numpy as np\n",
    "import skimage.io as skio\n",
    "from segmentation.preprocessing import preprocessor\n"
   ]
  },
  {
   "cell_type": "code",
   "execution_count": 2,
   "metadata": {},
   "outputs": [
    {
     "name": "stdout",
     "output_type": "stream",
     "text": [
      "number of cubes: 40\n",
      "cube shape: (512, 512, 512)\n",
      "cube dtype: uint16\n"
     ]
    }
   ],
   "source": [
    "# high-resolution 2.58um - 5.2um data conversion\n",
    "input_folder = '/hdd/yang/data/kidney_seg/publish_data/highres_training_16bit_cubes/'\n",
    "save_folder = '/hdd/yang/data/kidney_seg/high-res_training/highres_training_8bit_clahe/'\n",
    "cube_paths = natsort.natsorted(glob.glob(os.path.join(input_folder, '*.tif')))\n",
    "print(f'number of cubes: {len(cube_paths)}')\n",
    "skio.imread(cube_paths[0])  # check if the first cube can be read\n",
    "print(f'cube shape: {skio.imread(cube_paths[0]).shape}')\n",
    "print(f'cube dtype: {skio.imread(cube_paths[0]).dtype}')"
   ]
  },
  {
   "cell_type": "code",
   "execution_count": null,
   "metadata": {},
   "outputs": [
    {
     "name": "stdout",
     "output_type": "stream",
     "text": [
      "Number of files: 40 \n",
      " File type: uint16 \n",
      " Converting to 8 bit: True \n",
      " Masked: False\n"
     ]
    },
    {
     "name": "stderr",
     "output_type": "stream",
     "text": [
      "  0%|          | 0/40 [00:00<?, ?it/s]"
     ]
    }
   ],
   "source": [
    "hipct_clahe = preprocessor.hipctClahe(\n",
    "    input_dir=input_folder,\n",
    "    output_dir=save_folder,\n",
    "    convert_to_8_bit=True,\n",
    "    masked=False,\n",
    "    grid_size=8,\n",
    "    clip_limit=0.001,\n",
    ")\n",
    "\n",
    "hipct_clahe.clahe_3d()"
   ]
  },
  {
   "cell_type": "markdown",
   "metadata": {},
   "source": [
    "# Generating training patches\n",
    "The cubes of 512^3 pixels after CLAHE and 8 bit conversion will be devided into 128^3 patches."
   ]
  },
  {
   "cell_type": "code",
   "execution_count": 3,
   "metadata": {},
   "outputs": [
    {
     "name": "stdout",
     "output_type": "stream",
     "text": [
      "Number of cube files:  40\n"
     ]
    },
    {
     "name": "stderr",
     "output_type": "stream",
     "text": [
      "Processing cube file: complete_cube_39.tif: 100%|██████████| 40/40 [00:23<00:00,  1.69it/s]\n"
     ]
    },
    {
     "name": "stdout",
     "output_type": "stream",
     "text": [
      "Completed splitting the data patches!\n",
      "Number of label files:  40\n"
     ]
    },
    {
     "name": "stderr",
     "output_type": "stream",
     "text": [
      "Processing label file: complete_label_39.tif: 100%|██████████| 40/40 [00:24<00:00,  1.64it/s]"
     ]
    },
    {
     "name": "stdout",
     "output_type": "stream",
     "text": [
      "Completed splitting the label patches!\n"
     ]
    },
    {
     "name": "stderr",
     "output_type": "stream",
     "text": [
      "\n"
     ]
    }
   ],
   "source": [
    "image_dir = save_folder \n",
    "label_dir = '/hdd/yang/data/kidney_seg/publish_data/highres_training_16bit_labels' \n",
    "save_dir = '/hdd/yang/data/kidney_seg/high-res_training/training_patches'\n",
    "split_size = 128\n",
    "\n",
    "preprocessor.generate_training_patches(\n",
    "    image_dir=image_dir,\n",
    "    label_dir=label_dir,\n",
    "    save_dir=save_dir,\n",
    "    split_size=split_size\n",
    ")"
   ]
  }
 ],
 "metadata": {
  "kernelspec": {
   "display_name": ".venv",
   "language": "python",
   "name": "python3"
  },
  "language_info": {
   "codemirror_mode": {
    "name": "ipython",
    "version": 3
   },
   "file_extension": ".py",
   "mimetype": "text/x-python",
   "name": "python",
   "nbconvert_exporter": "python",
   "pygments_lexer": "ipython3",
   "version": "3.11.12"
  }
 },
 "nbformat": 4,
 "nbformat_minor": 4
}
